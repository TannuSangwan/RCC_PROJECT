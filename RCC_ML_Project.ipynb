{
 "cells": [
  {
   "cell_type": "code",
   "execution_count": 1,
   "id": "dd077598",
   "metadata": {},
   "outputs": [],
   "source": [
    "#importing lib\n",
    "import numpy as np\n",
    "import pandas as pd\n",
    "import matplotlib.pyplot as plt\n",
    "import seaborn as sns\n",
    "import matplotlib.pyplot as plt\n",
    "from pandas import DataFrame\n",
    "%matplotlib inline"
   ]
  },
  {
   "cell_type": "code",
   "execution_count": 2,
   "id": "b59ecbb4",
   "metadata": {},
   "outputs": [],
   "source": [
    "df=pd.read_csv(r\"C:\\Users\\drish\\OneDrive\\Desktop\\Brain Tumor.csv\")"
   ]
  },
  {
   "cell_type": "code",
   "execution_count": 3,
   "id": "25fefeaa",
   "metadata": {},
   "outputs": [
    {
     "name": "stdout",
     "output_type": "stream",
     "text": [
      "          Image  Class       Mean     Variance  Standard Deviation   Entropy  \\\n",
      "0        Image1      0   6.535339   619.587845           24.891522  0.109059   \n",
      "1        Image2      0   8.749969   805.957634           28.389393  0.266538   \n",
      "2        Image3      1   7.341095  1143.808219           33.820234  0.001467   \n",
      "3        Image4      1   5.958145   959.711985           30.979219  0.001477   \n",
      "4        Image5      0   7.315231   729.540579           27.010009  0.146761   \n",
      "...         ...    ...        ...          ...                 ...       ...   \n",
      "3757  Image3758      0  21.234512  1208.850174           34.768523  0.063774   \n",
      "3758  Image3759      0  20.435349  1227.151440           35.030721  0.066763   \n",
      "3759  Image3760      0  18.011520  1151.582765           33.934978  0.068396   \n",
      "3760  Image3761      0  13.330429   945.732779           30.752769  0.087872   \n",
      "3761  Image3762      0   6.110138   480.884025           21.929068  0.118171   \n",
      "\n",
      "      Skewness   Kurtosis    Contrast    Energy       ASM  Homogeneity  \\\n",
      "0     4.276477  18.900575   98.613971  0.293314  0.086033     0.530941   \n",
      "1     3.718116  14.464618   63.858816  0.475051  0.225674     0.651352   \n",
      "2     5.061750  26.479563   81.867206  0.031917  0.001019     0.268275   \n",
      "3     5.677977  33.428845  151.229741  0.032024  0.001026     0.243851   \n",
      "4     4.283221  19.079108  174.988756  0.343849  0.118232     0.501140   \n",
      "...        ...        ...         ...       ...       ...          ...   \n",
      "3757  2.082079   4.647310  158.437600  0.220666  0.048693     0.487131   \n",
      "3758  2.144625   4.882034  161.158675  0.225931  0.051045     0.502712   \n",
      "3759  2.308349   5.579498  167.130118  0.228930  0.052409     0.492269   \n",
      "3760  2.732822   7.757570  223.812932  0.261527  0.068397     0.480064   \n",
      "3761  4.110669  17.538826  239.251388  0.306224  0.093773     0.494333   \n",
      "\n",
      "      Dissimilarity  Correlation     Coarseness  \n",
      "0          4.473346     0.981939  7.458341e-155  \n",
      "1          3.220072     0.988834  7.458341e-155  \n",
      "2          5.981800     0.978014  7.458341e-155  \n",
      "3          7.700919     0.964189  7.458341e-155  \n",
      "4          6.834689     0.972789  7.458341e-155  \n",
      "...             ...          ...            ...  \n",
      "3757       5.211739     0.950972  7.458341e-155  \n",
      "3758       5.083126     0.952749  7.458341e-155  \n",
      "3759       5.103700     0.952181  7.458341e-155  \n",
      "3760       6.439784     0.940898  7.458341e-155  \n",
      "3761       6.787329     0.938731  7.458341e-155  \n",
      "\n",
      "[3762 rows x 15 columns]\n"
     ]
    }
   ],
   "source": [
    "print(df)"
   ]
  },
  {
   "cell_type": "code",
   "execution_count": 4,
   "id": "5a325159",
   "metadata": {},
   "outputs": [
    {
     "data": {
      "text/html": [
       "<div>\n",
       "<style scoped>\n",
       "    .dataframe tbody tr th:only-of-type {\n",
       "        vertical-align: middle;\n",
       "    }\n",
       "\n",
       "    .dataframe tbody tr th {\n",
       "        vertical-align: top;\n",
       "    }\n",
       "\n",
       "    .dataframe thead th {\n",
       "        text-align: right;\n",
       "    }\n",
       "</style>\n",
       "<table border=\"1\" class=\"dataframe\">\n",
       "  <thead>\n",
       "    <tr style=\"text-align: right;\">\n",
       "      <th></th>\n",
       "      <th>Image</th>\n",
       "      <th>Class</th>\n",
       "      <th>Mean</th>\n",
       "      <th>Variance</th>\n",
       "      <th>Standard Deviation</th>\n",
       "      <th>Entropy</th>\n",
       "      <th>Skewness</th>\n",
       "      <th>Kurtosis</th>\n",
       "      <th>Contrast</th>\n",
       "      <th>Energy</th>\n",
       "      <th>ASM</th>\n",
       "      <th>Homogeneity</th>\n",
       "      <th>Dissimilarity</th>\n",
       "      <th>Correlation</th>\n",
       "      <th>Coarseness</th>\n",
       "    </tr>\n",
       "  </thead>\n",
       "  <tbody>\n",
       "    <tr>\n",
       "      <th>0</th>\n",
       "      <td>Image1</td>\n",
       "      <td>0</td>\n",
       "      <td>6.535339</td>\n",
       "      <td>619.587845</td>\n",
       "      <td>24.891522</td>\n",
       "      <td>0.109059</td>\n",
       "      <td>4.276477</td>\n",
       "      <td>18.900575</td>\n",
       "      <td>98.613971</td>\n",
       "      <td>0.293314</td>\n",
       "      <td>0.086033</td>\n",
       "      <td>0.530941</td>\n",
       "      <td>4.473346</td>\n",
       "      <td>0.981939</td>\n",
       "      <td>7.458341e-155</td>\n",
       "    </tr>\n",
       "    <tr>\n",
       "      <th>1</th>\n",
       "      <td>Image2</td>\n",
       "      <td>0</td>\n",
       "      <td>8.749969</td>\n",
       "      <td>805.957634</td>\n",
       "      <td>28.389393</td>\n",
       "      <td>0.266538</td>\n",
       "      <td>3.718116</td>\n",
       "      <td>14.464618</td>\n",
       "      <td>63.858816</td>\n",
       "      <td>0.475051</td>\n",
       "      <td>0.225674</td>\n",
       "      <td>0.651352</td>\n",
       "      <td>3.220072</td>\n",
       "      <td>0.988834</td>\n",
       "      <td>7.458341e-155</td>\n",
       "    </tr>\n",
       "    <tr>\n",
       "      <th>2</th>\n",
       "      <td>Image3</td>\n",
       "      <td>1</td>\n",
       "      <td>7.341095</td>\n",
       "      <td>1143.808219</td>\n",
       "      <td>33.820234</td>\n",
       "      <td>0.001467</td>\n",
       "      <td>5.061750</td>\n",
       "      <td>26.479563</td>\n",
       "      <td>81.867206</td>\n",
       "      <td>0.031917</td>\n",
       "      <td>0.001019</td>\n",
       "      <td>0.268275</td>\n",
       "      <td>5.981800</td>\n",
       "      <td>0.978014</td>\n",
       "      <td>7.458341e-155</td>\n",
       "    </tr>\n",
       "    <tr>\n",
       "      <th>3</th>\n",
       "      <td>Image4</td>\n",
       "      <td>1</td>\n",
       "      <td>5.958145</td>\n",
       "      <td>959.711985</td>\n",
       "      <td>30.979219</td>\n",
       "      <td>0.001477</td>\n",
       "      <td>5.677977</td>\n",
       "      <td>33.428845</td>\n",
       "      <td>151.229741</td>\n",
       "      <td>0.032024</td>\n",
       "      <td>0.001026</td>\n",
       "      <td>0.243851</td>\n",
       "      <td>7.700919</td>\n",
       "      <td>0.964189</td>\n",
       "      <td>7.458341e-155</td>\n",
       "    </tr>\n",
       "    <tr>\n",
       "      <th>4</th>\n",
       "      <td>Image5</td>\n",
       "      <td>0</td>\n",
       "      <td>7.315231</td>\n",
       "      <td>729.540579</td>\n",
       "      <td>27.010009</td>\n",
       "      <td>0.146761</td>\n",
       "      <td>4.283221</td>\n",
       "      <td>19.079108</td>\n",
       "      <td>174.988756</td>\n",
       "      <td>0.343849</td>\n",
       "      <td>0.118232</td>\n",
       "      <td>0.501140</td>\n",
       "      <td>6.834689</td>\n",
       "      <td>0.972789</td>\n",
       "      <td>7.458341e-155</td>\n",
       "    </tr>\n",
       "    <tr>\n",
       "      <th>...</th>\n",
       "      <td>...</td>\n",
       "      <td>...</td>\n",
       "      <td>...</td>\n",
       "      <td>...</td>\n",
       "      <td>...</td>\n",
       "      <td>...</td>\n",
       "      <td>...</td>\n",
       "      <td>...</td>\n",
       "      <td>...</td>\n",
       "      <td>...</td>\n",
       "      <td>...</td>\n",
       "      <td>...</td>\n",
       "      <td>...</td>\n",
       "      <td>...</td>\n",
       "      <td>...</td>\n",
       "    </tr>\n",
       "    <tr>\n",
       "      <th>3757</th>\n",
       "      <td>Image3758</td>\n",
       "      <td>0</td>\n",
       "      <td>21.234512</td>\n",
       "      <td>1208.850174</td>\n",
       "      <td>34.768523</td>\n",
       "      <td>0.063774</td>\n",
       "      <td>2.082079</td>\n",
       "      <td>4.647310</td>\n",
       "      <td>158.437600</td>\n",
       "      <td>0.220666</td>\n",
       "      <td>0.048693</td>\n",
       "      <td>0.487131</td>\n",
       "      <td>5.211739</td>\n",
       "      <td>0.950972</td>\n",
       "      <td>7.458341e-155</td>\n",
       "    </tr>\n",
       "    <tr>\n",
       "      <th>3758</th>\n",
       "      <td>Image3759</td>\n",
       "      <td>0</td>\n",
       "      <td>20.435349</td>\n",
       "      <td>1227.151440</td>\n",
       "      <td>35.030721</td>\n",
       "      <td>0.066763</td>\n",
       "      <td>2.144625</td>\n",
       "      <td>4.882034</td>\n",
       "      <td>161.158675</td>\n",
       "      <td>0.225931</td>\n",
       "      <td>0.051045</td>\n",
       "      <td>0.502712</td>\n",
       "      <td>5.083126</td>\n",
       "      <td>0.952749</td>\n",
       "      <td>7.458341e-155</td>\n",
       "    </tr>\n",
       "    <tr>\n",
       "      <th>3759</th>\n",
       "      <td>Image3760</td>\n",
       "      <td>0</td>\n",
       "      <td>18.011520</td>\n",
       "      <td>1151.582765</td>\n",
       "      <td>33.934978</td>\n",
       "      <td>0.068396</td>\n",
       "      <td>2.308349</td>\n",
       "      <td>5.579498</td>\n",
       "      <td>167.130118</td>\n",
       "      <td>0.228930</td>\n",
       "      <td>0.052409</td>\n",
       "      <td>0.492269</td>\n",
       "      <td>5.103700</td>\n",
       "      <td>0.952181</td>\n",
       "      <td>7.458341e-155</td>\n",
       "    </tr>\n",
       "    <tr>\n",
       "      <th>3760</th>\n",
       "      <td>Image3761</td>\n",
       "      <td>0</td>\n",
       "      <td>13.330429</td>\n",
       "      <td>945.732779</td>\n",
       "      <td>30.752769</td>\n",
       "      <td>0.087872</td>\n",
       "      <td>2.732822</td>\n",
       "      <td>7.757570</td>\n",
       "      <td>223.812932</td>\n",
       "      <td>0.261527</td>\n",
       "      <td>0.068397</td>\n",
       "      <td>0.480064</td>\n",
       "      <td>6.439784</td>\n",
       "      <td>0.940898</td>\n",
       "      <td>7.458341e-155</td>\n",
       "    </tr>\n",
       "    <tr>\n",
       "      <th>3761</th>\n",
       "      <td>Image3762</td>\n",
       "      <td>0</td>\n",
       "      <td>6.110138</td>\n",
       "      <td>480.884025</td>\n",
       "      <td>21.929068</td>\n",
       "      <td>0.118171</td>\n",
       "      <td>4.110669</td>\n",
       "      <td>17.538826</td>\n",
       "      <td>239.251388</td>\n",
       "      <td>0.306224</td>\n",
       "      <td>0.093773</td>\n",
       "      <td>0.494333</td>\n",
       "      <td>6.787329</td>\n",
       "      <td>0.938731</td>\n",
       "      <td>7.458341e-155</td>\n",
       "    </tr>\n",
       "  </tbody>\n",
       "</table>\n",
       "<p>3762 rows × 15 columns</p>\n",
       "</div>"
      ],
      "text/plain": [
       "          Image  Class       Mean     Variance  Standard Deviation   Entropy  \\\n",
       "0        Image1      0   6.535339   619.587845           24.891522  0.109059   \n",
       "1        Image2      0   8.749969   805.957634           28.389393  0.266538   \n",
       "2        Image3      1   7.341095  1143.808219           33.820234  0.001467   \n",
       "3        Image4      1   5.958145   959.711985           30.979219  0.001477   \n",
       "4        Image5      0   7.315231   729.540579           27.010009  0.146761   \n",
       "...         ...    ...        ...          ...                 ...       ...   \n",
       "3757  Image3758      0  21.234512  1208.850174           34.768523  0.063774   \n",
       "3758  Image3759      0  20.435349  1227.151440           35.030721  0.066763   \n",
       "3759  Image3760      0  18.011520  1151.582765           33.934978  0.068396   \n",
       "3760  Image3761      0  13.330429   945.732779           30.752769  0.087872   \n",
       "3761  Image3762      0   6.110138   480.884025           21.929068  0.118171   \n",
       "\n",
       "      Skewness   Kurtosis    Contrast    Energy       ASM  Homogeneity  \\\n",
       "0     4.276477  18.900575   98.613971  0.293314  0.086033     0.530941   \n",
       "1     3.718116  14.464618   63.858816  0.475051  0.225674     0.651352   \n",
       "2     5.061750  26.479563   81.867206  0.031917  0.001019     0.268275   \n",
       "3     5.677977  33.428845  151.229741  0.032024  0.001026     0.243851   \n",
       "4     4.283221  19.079108  174.988756  0.343849  0.118232     0.501140   \n",
       "...        ...        ...         ...       ...       ...          ...   \n",
       "3757  2.082079   4.647310  158.437600  0.220666  0.048693     0.487131   \n",
       "3758  2.144625   4.882034  161.158675  0.225931  0.051045     0.502712   \n",
       "3759  2.308349   5.579498  167.130118  0.228930  0.052409     0.492269   \n",
       "3760  2.732822   7.757570  223.812932  0.261527  0.068397     0.480064   \n",
       "3761  4.110669  17.538826  239.251388  0.306224  0.093773     0.494333   \n",
       "\n",
       "      Dissimilarity  Correlation     Coarseness  \n",
       "0          4.473346     0.981939  7.458341e-155  \n",
       "1          3.220072     0.988834  7.458341e-155  \n",
       "2          5.981800     0.978014  7.458341e-155  \n",
       "3          7.700919     0.964189  7.458341e-155  \n",
       "4          6.834689     0.972789  7.458341e-155  \n",
       "...             ...          ...            ...  \n",
       "3757       5.211739     0.950972  7.458341e-155  \n",
       "3758       5.083126     0.952749  7.458341e-155  \n",
       "3759       5.103700     0.952181  7.458341e-155  \n",
       "3760       6.439784     0.940898  7.458341e-155  \n",
       "3761       6.787329     0.938731  7.458341e-155  \n",
       "\n",
       "[3762 rows x 15 columns]"
      ]
     },
     "execution_count": 4,
     "metadata": {},
     "output_type": "execute_result"
    }
   ],
   "source": [
    "df"
   ]
  },
  {
   "cell_type": "code",
   "execution_count": 5,
   "id": "a8b468a9",
   "metadata": {},
   "outputs": [],
   "source": [
    "df=df.drop(['Image'], axis=1)"
   ]
  },
  {
   "cell_type": "code",
   "execution_count": 6,
   "id": "d0dad039",
   "metadata": {},
   "outputs": [],
   "source": [
    "df=df.drop(['Coarseness'], axis=1)"
   ]
  },
  {
   "cell_type": "code",
   "execution_count": 7,
   "id": "61531a6f",
   "metadata": {},
   "outputs": [],
   "source": [
    "df=df.drop(['Energy'], axis=1)"
   ]
  },
  {
   "cell_type": "code",
   "execution_count": 8,
   "id": "173a0116",
   "metadata": {},
   "outputs": [],
   "source": [
    "df=df.drop(['ASM'], axis=1)"
   ]
  },
  {
   "cell_type": "code",
   "execution_count": 9,
   "id": "83ae34c1",
   "metadata": {},
   "outputs": [],
   "source": [
    "df=df.drop(['Homogeneity'], axis=1)"
   ]
  },
  {
   "cell_type": "code",
   "execution_count": 10,
   "id": "836a5896",
   "metadata": {},
   "outputs": [
    {
     "data": {
      "text/html": [
       "<div>\n",
       "<style scoped>\n",
       "    .dataframe tbody tr th:only-of-type {\n",
       "        vertical-align: middle;\n",
       "    }\n",
       "\n",
       "    .dataframe tbody tr th {\n",
       "        vertical-align: top;\n",
       "    }\n",
       "\n",
       "    .dataframe thead th {\n",
       "        text-align: right;\n",
       "    }\n",
       "</style>\n",
       "<table border=\"1\" class=\"dataframe\">\n",
       "  <thead>\n",
       "    <tr style=\"text-align: right;\">\n",
       "      <th></th>\n",
       "      <th>Class</th>\n",
       "      <th>Mean</th>\n",
       "      <th>Variance</th>\n",
       "      <th>Standard Deviation</th>\n",
       "      <th>Entropy</th>\n",
       "      <th>Skewness</th>\n",
       "      <th>Kurtosis</th>\n",
       "      <th>Contrast</th>\n",
       "      <th>Dissimilarity</th>\n",
       "      <th>Correlation</th>\n",
       "    </tr>\n",
       "  </thead>\n",
       "  <tbody>\n",
       "    <tr>\n",
       "      <th>0</th>\n",
       "      <td>0</td>\n",
       "      <td>6.535339</td>\n",
       "      <td>619.587845</td>\n",
       "      <td>24.891522</td>\n",
       "      <td>0.109059</td>\n",
       "      <td>4.276477</td>\n",
       "      <td>18.900575</td>\n",
       "      <td>98.613971</td>\n",
       "      <td>4.473346</td>\n",
       "      <td>0.981939</td>\n",
       "    </tr>\n",
       "    <tr>\n",
       "      <th>1</th>\n",
       "      <td>0</td>\n",
       "      <td>8.749969</td>\n",
       "      <td>805.957634</td>\n",
       "      <td>28.389393</td>\n",
       "      <td>0.266538</td>\n",
       "      <td>3.718116</td>\n",
       "      <td>14.464618</td>\n",
       "      <td>63.858816</td>\n",
       "      <td>3.220072</td>\n",
       "      <td>0.988834</td>\n",
       "    </tr>\n",
       "    <tr>\n",
       "      <th>2</th>\n",
       "      <td>1</td>\n",
       "      <td>7.341095</td>\n",
       "      <td>1143.808219</td>\n",
       "      <td>33.820234</td>\n",
       "      <td>0.001467</td>\n",
       "      <td>5.061750</td>\n",
       "      <td>26.479563</td>\n",
       "      <td>81.867206</td>\n",
       "      <td>5.981800</td>\n",
       "      <td>0.978014</td>\n",
       "    </tr>\n",
       "    <tr>\n",
       "      <th>3</th>\n",
       "      <td>1</td>\n",
       "      <td>5.958145</td>\n",
       "      <td>959.711985</td>\n",
       "      <td>30.979219</td>\n",
       "      <td>0.001477</td>\n",
       "      <td>5.677977</td>\n",
       "      <td>33.428845</td>\n",
       "      <td>151.229741</td>\n",
       "      <td>7.700919</td>\n",
       "      <td>0.964189</td>\n",
       "    </tr>\n",
       "    <tr>\n",
       "      <th>4</th>\n",
       "      <td>0</td>\n",
       "      <td>7.315231</td>\n",
       "      <td>729.540579</td>\n",
       "      <td>27.010009</td>\n",
       "      <td>0.146761</td>\n",
       "      <td>4.283221</td>\n",
       "      <td>19.079108</td>\n",
       "      <td>174.988756</td>\n",
       "      <td>6.834689</td>\n",
       "      <td>0.972789</td>\n",
       "    </tr>\n",
       "    <tr>\n",
       "      <th>...</th>\n",
       "      <td>...</td>\n",
       "      <td>...</td>\n",
       "      <td>...</td>\n",
       "      <td>...</td>\n",
       "      <td>...</td>\n",
       "      <td>...</td>\n",
       "      <td>...</td>\n",
       "      <td>...</td>\n",
       "      <td>...</td>\n",
       "      <td>...</td>\n",
       "    </tr>\n",
       "    <tr>\n",
       "      <th>3757</th>\n",
       "      <td>0</td>\n",
       "      <td>21.234512</td>\n",
       "      <td>1208.850174</td>\n",
       "      <td>34.768523</td>\n",
       "      <td>0.063774</td>\n",
       "      <td>2.082079</td>\n",
       "      <td>4.647310</td>\n",
       "      <td>158.437600</td>\n",
       "      <td>5.211739</td>\n",
       "      <td>0.950972</td>\n",
       "    </tr>\n",
       "    <tr>\n",
       "      <th>3758</th>\n",
       "      <td>0</td>\n",
       "      <td>20.435349</td>\n",
       "      <td>1227.151440</td>\n",
       "      <td>35.030721</td>\n",
       "      <td>0.066763</td>\n",
       "      <td>2.144625</td>\n",
       "      <td>4.882034</td>\n",
       "      <td>161.158675</td>\n",
       "      <td>5.083126</td>\n",
       "      <td>0.952749</td>\n",
       "    </tr>\n",
       "    <tr>\n",
       "      <th>3759</th>\n",
       "      <td>0</td>\n",
       "      <td>18.011520</td>\n",
       "      <td>1151.582765</td>\n",
       "      <td>33.934978</td>\n",
       "      <td>0.068396</td>\n",
       "      <td>2.308349</td>\n",
       "      <td>5.579498</td>\n",
       "      <td>167.130118</td>\n",
       "      <td>5.103700</td>\n",
       "      <td>0.952181</td>\n",
       "    </tr>\n",
       "    <tr>\n",
       "      <th>3760</th>\n",
       "      <td>0</td>\n",
       "      <td>13.330429</td>\n",
       "      <td>945.732779</td>\n",
       "      <td>30.752769</td>\n",
       "      <td>0.087872</td>\n",
       "      <td>2.732822</td>\n",
       "      <td>7.757570</td>\n",
       "      <td>223.812932</td>\n",
       "      <td>6.439784</td>\n",
       "      <td>0.940898</td>\n",
       "    </tr>\n",
       "    <tr>\n",
       "      <th>3761</th>\n",
       "      <td>0</td>\n",
       "      <td>6.110138</td>\n",
       "      <td>480.884025</td>\n",
       "      <td>21.929068</td>\n",
       "      <td>0.118171</td>\n",
       "      <td>4.110669</td>\n",
       "      <td>17.538826</td>\n",
       "      <td>239.251388</td>\n",
       "      <td>6.787329</td>\n",
       "      <td>0.938731</td>\n",
       "    </tr>\n",
       "  </tbody>\n",
       "</table>\n",
       "<p>3762 rows × 10 columns</p>\n",
       "</div>"
      ],
      "text/plain": [
       "      Class       Mean     Variance  Standard Deviation   Entropy  Skewness  \\\n",
       "0         0   6.535339   619.587845           24.891522  0.109059  4.276477   \n",
       "1         0   8.749969   805.957634           28.389393  0.266538  3.718116   \n",
       "2         1   7.341095  1143.808219           33.820234  0.001467  5.061750   \n",
       "3         1   5.958145   959.711985           30.979219  0.001477  5.677977   \n",
       "4         0   7.315231   729.540579           27.010009  0.146761  4.283221   \n",
       "...     ...        ...          ...                 ...       ...       ...   \n",
       "3757      0  21.234512  1208.850174           34.768523  0.063774  2.082079   \n",
       "3758      0  20.435349  1227.151440           35.030721  0.066763  2.144625   \n",
       "3759      0  18.011520  1151.582765           33.934978  0.068396  2.308349   \n",
       "3760      0  13.330429   945.732779           30.752769  0.087872  2.732822   \n",
       "3761      0   6.110138   480.884025           21.929068  0.118171  4.110669   \n",
       "\n",
       "       Kurtosis    Contrast  Dissimilarity  Correlation  \n",
       "0     18.900575   98.613971       4.473346     0.981939  \n",
       "1     14.464618   63.858816       3.220072     0.988834  \n",
       "2     26.479563   81.867206       5.981800     0.978014  \n",
       "3     33.428845  151.229741       7.700919     0.964189  \n",
       "4     19.079108  174.988756       6.834689     0.972789  \n",
       "...         ...         ...            ...          ...  \n",
       "3757   4.647310  158.437600       5.211739     0.950972  \n",
       "3758   4.882034  161.158675       5.083126     0.952749  \n",
       "3759   5.579498  167.130118       5.103700     0.952181  \n",
       "3760   7.757570  223.812932       6.439784     0.940898  \n",
       "3761  17.538826  239.251388       6.787329     0.938731  \n",
       "\n",
       "[3762 rows x 10 columns]"
      ]
     },
     "execution_count": 10,
     "metadata": {},
     "output_type": "execute_result"
    }
   ],
   "source": [
    "df"
   ]
  },
  {
   "cell_type": "code",
   "execution_count": 11,
   "id": "37a43630",
   "metadata": {},
   "outputs": [
    {
     "data": {
      "text/plain": [
       "<AxesSubplot:>"
      ]
     },
     "execution_count": 11,
     "metadata": {},
     "output_type": "execute_result"
    },
    {
     "data": {
      "image/png": "[encoded data removed]",
      "text/plain": [
       "<Figure size 720x720 with 2 Axes>"
      ]
     },
     "metadata": {
      "needs_background": "light"
     },
     "output_type": "display_data"
    }
   ],
   "source": [
    "plt.figure(figsize=(10,10))\n",
    "sns.heatmap(df.corr(),color = \"k\", annot=True)"
   ]
  },
  {
   "cell_type": "code",
   "execution_count": 12,
   "id": "599c8d2c",
   "metadata": {},
   "outputs": [],
   "source": [
    "from sklearn.preprocessing import MinMaxScaler\n",
    "scaler = MinMaxScaler()"
   ]
  },
  {
   "cell_type": "code",
   "execution_count": 13,
   "id": "1b15d77c",
   "metadata": {},
   "outputs": [],
   "source": [
    "Norm_scale=['Class','Mean','Variance','Standard Deviation','Entropy','Skewness','Kurtosis','Contrast','Dissimilarity','Correlation']"
   ]
  },
  {
   "cell_type": "code",
   "execution_count": 14,
   "id": "59f1ab1a",
   "metadata": {},
   "outputs": [],
   "source": [
    "df[Norm_scale]=scaler.fit_transform(df[Norm_scale])"
   ]
  },
  {
   "cell_type": "code",
   "execution_count": 15,
   "id": "6e6c7e59",
   "metadata": {},
   "outputs": [
    {
     "data": {
      "text/html": [
       "<div>\n",
       "<style scoped>\n",
       "    .dataframe tbody tr th:only-of-type {\n",
       "        vertical-align: middle;\n",
       "    }\n",
       "\n",
       "    .dataframe tbody tr th {\n",
       "        vertical-align: top;\n",
       "    }\n",
       "\n",
       "    .dataframe thead th {\n",
       "        text-align: right;\n",
       "    }\n",
       "</style>\n",
       "<table border=\"1\" class=\"dataframe\">\n",
       "  <thead>\n",
       "    <tr style=\"text-align: right;\">\n",
       "      <th></th>\n",
       "      <th>Class</th>\n",
       "      <th>Mean</th>\n",
       "      <th>Variance</th>\n",
       "      <th>Standard Deviation</th>\n",
       "      <th>Entropy</th>\n",
       "      <th>Skewness</th>\n",
       "      <th>Kurtosis</th>\n",
       "      <th>Contrast</th>\n",
       "      <th>Dissimilarity</th>\n",
       "      <th>Correlation</th>\n",
       "    </tr>\n",
       "  </thead>\n",
       "  <tbody>\n",
       "    <tr>\n",
       "      <th>0</th>\n",
       "      <td>0.0</td>\n",
       "      <td>0.194705</td>\n",
       "      <td>0.212023</td>\n",
       "      <td>0.443074</td>\n",
       "      <td>0.274801</td>\n",
       "      <td>0.068211</td>\n",
       "      <td>0.010937</td>\n",
       "      <td>0.028236</td>\n",
       "      <td>0.139694</td>\n",
       "      <td>0.981764</td>\n",
       "    </tr>\n",
       "    <tr>\n",
       "      <th>1</th>\n",
       "      <td>0.0</td>\n",
       "      <td>0.261489</td>\n",
       "      <td>0.276124</td>\n",
       "      <td>0.510114</td>\n",
       "      <td>0.674843</td>\n",
       "      <td>0.052278</td>\n",
       "      <td>0.007693</td>\n",
       "      <td>0.017951</td>\n",
       "      <td>0.093527</td>\n",
       "      <td>0.997417</td>\n",
       "    </tr>\n",
       "    <tr>\n",
       "      <th>2</th>\n",
       "      <td>1.0</td>\n",
       "      <td>0.219003</td>\n",
       "      <td>0.392326</td>\n",
       "      <td>0.614200</td>\n",
       "      <td>0.001487</td>\n",
       "      <td>0.090618</td>\n",
       "      <td>0.016478</td>\n",
       "      <td>0.023280</td>\n",
       "      <td>0.195261</td>\n",
       "      <td>0.972855</td>\n",
       "    </tr>\n",
       "    <tr>\n",
       "      <th>3</th>\n",
       "      <td>1.0</td>\n",
       "      <td>0.177300</td>\n",
       "      <td>0.329007</td>\n",
       "      <td>0.559750</td>\n",
       "      <td>0.001513</td>\n",
       "      <td>0.108202</td>\n",
       "      <td>0.021559</td>\n",
       "      <td>0.043805</td>\n",
       "      <td>0.258588</td>\n",
       "      <td>0.941475</td>\n",
       "    </tr>\n",
       "    <tr>\n",
       "      <th>4</th>\n",
       "      <td>0.0</td>\n",
       "      <td>0.218223</td>\n",
       "      <td>0.249840</td>\n",
       "      <td>0.483677</td>\n",
       "      <td>0.370574</td>\n",
       "      <td>0.068403</td>\n",
       "      <td>0.011067</td>\n",
       "      <td>0.050836</td>\n",
       "      <td>0.226679</td>\n",
       "      <td>0.960995</td>\n",
       "    </tr>\n",
       "    <tr>\n",
       "      <th>...</th>\n",
       "      <td>...</td>\n",
       "      <td>...</td>\n",
       "      <td>...</td>\n",
       "      <td>...</td>\n",
       "      <td>...</td>\n",
       "      <td>...</td>\n",
       "      <td>...</td>\n",
       "      <td>...</td>\n",
       "      <td>...</td>\n",
       "      <td>...</td>\n",
       "    </tr>\n",
       "    <tr>\n",
       "      <th>3757</th>\n",
       "      <td>0.0</td>\n",
       "      <td>0.637968</td>\n",
       "      <td>0.414697</td>\n",
       "      <td>0.632375</td>\n",
       "      <td>0.159764</td>\n",
       "      <td>0.005595</td>\n",
       "      <td>0.000515</td>\n",
       "      <td>0.045938</td>\n",
       "      <td>0.166894</td>\n",
       "      <td>0.911473</td>\n",
       "    </tr>\n",
       "    <tr>\n",
       "      <th>3758</th>\n",
       "      <td>0.0</td>\n",
       "      <td>0.613869</td>\n",
       "      <td>0.420991</td>\n",
       "      <td>0.637400</td>\n",
       "      <td>0.167358</td>\n",
       "      <td>0.007379</td>\n",
       "      <td>0.000687</td>\n",
       "      <td>0.046743</td>\n",
       "      <td>0.162157</td>\n",
       "      <td>0.915507</td>\n",
       "    </tr>\n",
       "    <tr>\n",
       "      <th>3759</th>\n",
       "      <td>0.0</td>\n",
       "      <td>0.540777</td>\n",
       "      <td>0.395000</td>\n",
       "      <td>0.616399</td>\n",
       "      <td>0.171507</td>\n",
       "      <td>0.012051</td>\n",
       "      <td>0.001197</td>\n",
       "      <td>0.048510</td>\n",
       "      <td>0.162914</td>\n",
       "      <td>0.914218</td>\n",
       "    </tr>\n",
       "    <tr>\n",
       "      <th>3760</th>\n",
       "      <td>0.0</td>\n",
       "      <td>0.399615</td>\n",
       "      <td>0.324199</td>\n",
       "      <td>0.555410</td>\n",
       "      <td>0.220979</td>\n",
       "      <td>0.024163</td>\n",
       "      <td>0.002789</td>\n",
       "      <td>0.065284</td>\n",
       "      <td>0.212132</td>\n",
       "      <td>0.888606</td>\n",
       "    </tr>\n",
       "    <tr>\n",
       "      <th>3761</th>\n",
       "      <td>0.0</td>\n",
       "      <td>0.181883</td>\n",
       "      <td>0.164316</td>\n",
       "      <td>0.386296</td>\n",
       "      <td>0.297948</td>\n",
       "      <td>0.063479</td>\n",
       "      <td>0.009941</td>\n",
       "      <td>0.069852</td>\n",
       "      <td>0.224934</td>\n",
       "      <td>0.883686</td>\n",
       "    </tr>\n",
       "  </tbody>\n",
       "</table>\n",
       "<p>3762 rows × 10 columns</p>\n",
       "</div>"
      ],
      "text/plain": [
       "      Class      Mean  Variance  Standard Deviation   Entropy  Skewness  \\\n",
       "0       0.0  0.194705  0.212023            0.443074  0.274801  0.068211   \n",
       "1       0.0  0.261489  0.276124            0.510114  0.674843  0.052278   \n",
       "2       1.0  0.219003  0.392326            0.614200  0.001487  0.090618   \n",
       "3       1.0  0.177300  0.329007            0.559750  0.001513  0.108202   \n",
       "4       0.0  0.218223  0.249840            0.483677  0.370574  0.068403   \n",
       "...     ...       ...       ...                 ...       ...       ...   \n",
       "3757    0.0  0.637968  0.414697            0.632375  0.159764  0.005595   \n",
       "3758    0.0  0.613869  0.420991            0.637400  0.167358  0.007379   \n",
       "3759    0.0  0.540777  0.395000            0.616399  0.171507  0.012051   \n",
       "3760    0.0  0.399615  0.324199            0.555410  0.220979  0.024163   \n",
       "3761    0.0  0.181883  0.164316            0.386296  0.297948  0.063479   \n",
       "\n",
       "      Kurtosis  Contrast  Dissimilarity  Correlation  \n",
       "0     0.010937  0.028236       0.139694     0.981764  \n",
       "1     0.007693  0.017951       0.093527     0.997417  \n",
       "2     0.016478  0.023280       0.195261     0.972855  \n",
       "3     0.021559  0.043805       0.258588     0.941475  \n",
       "4     0.011067  0.050836       0.226679     0.960995  \n",
       "...        ...       ...            ...          ...  \n",
       "3757  0.000515  0.045938       0.166894     0.911473  \n",
       "3758  0.000687  0.046743       0.162157     0.915507  \n",
       "3759  0.001197  0.048510       0.162914     0.914218  \n",
       "3760  0.002789  0.065284       0.212132     0.888606  \n",
       "3761  0.009941  0.069852       0.224934     0.883686  \n",
       "\n",
       "[3762 rows x 10 columns]"
      ]
     },
     "execution_count": 15,
     "metadata": {},
     "output_type": "execute_result"
    }
   ],
   "source": [
    "df"
   ]
  },
  {
   "cell_type": "code",
   "execution_count": 16,
   "id": "c926a608",
   "metadata": {},
   "outputs": [],
   "source": [
    "from sklearn.ensemble import RandomForestClassifier"
   ]
  },
  {
   "cell_type": "code",
   "execution_count": 17,
   "id": "3e15f93b",
   "metadata": {},
   "outputs": [],
   "source": [
    "rfc = RandomForestClassifier()"
   ]
  },
  {
   "cell_type": "code",
   "execution_count": 18,
   "id": "f30ed13a",
   "metadata": {},
   "outputs": [],
   "source": [
    "Y=df['Class']\n",
    "X=df[['Mean','Variance','Standard Deviation','Entropy','Skewness','Kurtosis','Contrast','Dissimilarity','Correlation']]"
   ]
  },
  {
   "cell_type": "code",
   "execution_count": 19,
   "id": "cff03979",
   "metadata": {},
   "outputs": [],
   "source": [
    "from sklearn.model_selection import train_test_split"
   ]
  },
  {
   "cell_type": "code",
   "execution_count": 20,
   "id": "400b228a",
   "metadata": {},
   "outputs": [],
   "source": [
    "from sklearn.metrics import accuracy_score"
   ]
  },
  {
   "cell_type": "code",
   "execution_count": 21,
   "id": "01bfc841",
   "metadata": {},
   "outputs": [],
   "source": [
    "from sklearn import metrics"
   ]
  },
  {
   "cell_type": "code",
   "execution_count": 22,
   "id": "2ea63917",
   "metadata": {},
   "outputs": [],
   "source": [
    " X_train, X_test, y_train, y_test, = train_test_split(X,Y,test_size=0.2, random_state=42)"
   ]
  },
  {
   "cell_type": "code",
   "execution_count": 23,
   "id": "0947fb25",
   "metadata": {
    "scrolled": true
   },
   "outputs": [
    {
     "name": "stdout",
     "output_type": "stream",
     "text": [
      "Requirement already satisfied: imblearn in c:\\users\\drish\\anaconda3\\lib\\site-packages (0.0)\n",
      "Requirement already satisfied: imbalanced-learn in c:\\users\\drish\\anaconda3\\lib\\site-packages (from imblearn) (0.8.1)\n",
      "Requirement already satisfied: scikit-learn>=0.24 in c:\\users\\drish\\anaconda3\\lib\\site-packages (from imbalanced-learn->imblearn) (0.24.1)\n",
      "Requirement already satisfied: numpy>=1.13.3 in c:\\users\\drish\\anaconda3\\lib\\site-packages (from imbalanced-learn->imblearn) (1.20.1)\n",
      "Requirement already satisfied: scipy>=0.19.1 in c:\\users\\drish\\anaconda3\\lib\\site-packages (from imbalanced-learn->imblearn) (1.6.2)\n",
      "Requirement already satisfied: joblib>=0.11 in c:\\users\\drish\\anaconda3\\lib\\site-packages (from imbalanced-learn->imblearn) (1.0.1)\n",
      "Requirement already satisfied: threadpoolctl>=2.0.0 in c:\\users\\drish\\anaconda3\\lib\\site-packages (from scikit-learn>=0.24->imbalanced-learn->imblearn) (2.1.0)\n",
      "Note: you may need to restart the kernel to use updated packages.\n"
     ]
    }
   ],
   "source": [
    "pip install imblearn"
   ]
  },
  {
   "cell_type": "code",
   "execution_count": 24,
   "id": "089eda16",
   "metadata": {},
   "outputs": [],
   "source": [
    "from imblearn.over_sampling import SMOTE"
   ]
  },
  {
   "cell_type": "code",
   "execution_count": 25,
   "id": "7b223097",
   "metadata": {},
   "outputs": [],
   "source": [
    "sm = SMOTE(k_neighbors=4)\n",
    "X,Y = sm.fit_resample(X,Y)"
   ]
  },
  {
   "cell_type": "code",
   "execution_count": 26,
   "id": "8b8bbdae",
   "metadata": {},
   "outputs": [
    {
     "data": {
      "text/plain": [
       "RandomForestClassifier()"
      ]
     },
     "execution_count": 26,
     "metadata": {},
     "output_type": "execute_result"
    }
   ],
   "source": [
    "rfc.fit(X_train, y_train)"
   ]
  },
  {
   "cell_type": "code",
   "execution_count": 27,
   "id": "43d85b1c",
   "metadata": {},
   "outputs": [],
   "source": [
    "rfc_pred = rfc.predict(X_test)"
   ]
  },
  {
   "cell_type": "code",
   "execution_count": 28,
   "id": "b647cbae",
   "metadata": {},
   "outputs": [
    {
     "name": "stdout",
     "output_type": "stream",
     "text": [
      "accuracy :98.54%\n"
     ]
    }
   ],
   "source": [
    "print(\"accuracy :%.2f%%\" %(accuracy_score(rfc_pred, y_test)*100.0))"
   ]
  },
  {
   "cell_type": "code",
   "execution_count": 29,
   "id": "3443c2cf",
   "metadata": {},
   "outputs": [],
   "source": [
    "from sklearn.neighbors import KNeighborsClassifier"
   ]
  },
  {
   "cell_type": "code",
   "execution_count": 30,
   "id": "88e5e0d8",
   "metadata": {},
   "outputs": [],
   "source": [
    "Y=df['Class']\n",
    "X=df[['Mean','Variance','Standard Deviation','Entropy','Skewness','Kurtosis','Contrast','Dissimilarity','Correlation']]"
   ]
  },
  {
   "cell_type": "code",
   "execution_count": 31,
   "id": "f3f4ed1d",
   "metadata": {},
   "outputs": [],
   "source": [
    "sm = SMOTE(k_neighbors=4)\n",
    "X,Y = sm.fit_resample(X,Y)"
   ]
  },
  {
   "cell_type": "code",
   "execution_count": 32,
   "id": "02a3635c",
   "metadata": {},
   "outputs": [],
   "source": [
    "X_train, X_test, y_train, y_test, = train_test_split(X,Y,test_size=0.2, random_state=42)"
   ]
  },
  {
   "cell_type": "code",
   "execution_count": 33,
   "id": "516b308d",
   "metadata": {},
   "outputs": [],
   "source": [
    "knn = KNeighborsClassifier(n_neighbors=5)"
   ]
  },
  {
   "cell_type": "code",
   "execution_count": 34,
   "id": "f7b1e500",
   "metadata": {},
   "outputs": [
    {
     "data": {
      "text/plain": [
       "KNeighborsClassifier()"
      ]
     },
     "execution_count": 34,
     "metadata": {},
     "output_type": "execute_result"
    }
   ],
   "source": [
    "knn.fit(X_train,y_train)"
   ]
  },
  {
   "cell_type": "code",
   "execution_count": 35,
   "id": "c08e4dd1",
   "metadata": {},
   "outputs": [],
   "source": [
    "knn_pred = knn.predict(X_test)"
   ]
  },
  {
   "cell_type": "code",
   "execution_count": 36,
   "id": "2b2581dd",
   "metadata": {},
   "outputs": [
    {
     "name": "stdout",
     "output_type": "stream",
     "text": [
      "Accuracy 98.19711538461539\n"
     ]
    }
   ],
   "source": [
    "print(\"Accuracy\",metrics.accuracy_score(y_test, knn_pred)*100.0)"
   ]
  },
  {
   "cell_type": "code",
   "execution_count": 37,
   "id": "8d8e7126",
   "metadata": {},
   "outputs": [],
   "source": [
    "from sklearn import preprocessing"
   ]
  },
  {
   "cell_type": "code",
   "execution_count": 38,
   "id": "af15c939",
   "metadata": {},
   "outputs": [],
   "source": [
    "from sklearn import tree"
   ]
  },
  {
   "cell_type": "code",
   "execution_count": 39,
   "id": "e83ada5c",
   "metadata": {},
   "outputs": [],
   "source": [
    "Y=df['Class']\n",
    "X=df[['Mean','Variance','Standard Deviation','Entropy','Skewness','Kurtosis','Contrast','Dissimilarity','Correlation']]"
   ]
  },
  {
   "cell_type": "code",
   "execution_count": 40,
   "id": "a4257132",
   "metadata": {},
   "outputs": [],
   "source": [
    "sm = SMOTE(k_neighbors=4)\n",
    "X,Y = sm.fit_resample(X,Y)"
   ]
  },
  {
   "cell_type": "code",
   "execution_count": 41,
   "id": "9c1e070e",
   "metadata": {},
   "outputs": [],
   "source": [
    "X_train, X_test, y_train, y_test, = train_test_split(X,Y,test_size=0.2, random_state=42)"
   ]
  },
  {
   "cell_type": "code",
   "execution_count": 42,
   "id": "25fe33eb",
   "metadata": {},
   "outputs": [],
   "source": [
    "dt = tree.DecisionTreeClassifier()"
   ]
  },
  {
   "cell_type": "code",
   "execution_count": 43,
   "id": "df46bcea",
   "metadata": {},
   "outputs": [
    {
     "data": {
      "text/plain": [
       "DecisionTreeClassifier()"
      ]
     },
     "execution_count": 43,
     "metadata": {},
     "output_type": "execute_result"
    }
   ],
   "source": [
    "dt.fit(X_train,y_train)"
   ]
  },
  {
   "cell_type": "code",
   "execution_count": 44,
   "id": "dd1542b1",
   "metadata": {},
   "outputs": [],
   "source": [
    "dt_pred = dt.predict(X_test)"
   ]
  },
  {
   "cell_type": "code",
   "execution_count": 45,
   "id": "e3a9e4dc",
   "metadata": {
    "scrolled": true
   },
   "outputs": [
    {
     "name": "stdout",
     "output_type": "stream",
     "text": [
      "Accuracy 98.91826923076923\n"
     ]
    }
   ],
   "source": [
    "print(\"Accuracy\",metrics.accuracy_score(y_test, dt_pred)*100.0)"
   ]
  },
  {
   "cell_type": "code",
   "execution_count": 50,
   "id": "14b26c8b",
   "metadata": {},
   "outputs": [
    {
     "name": "stdout",
     "output_type": "stream",
     "text": [
      "Mean(0.078659-33.239975) :30\n",
      "Variance(3.145628-2910.581879) :455\n",
      "Standard Deviation(1.773592-53.949809) :40\n",
      "Entropy(0.000882-0.394539) :0.2\n",
      "Skewness(1.886014-36.931294) :30\n",
      "Kurtosis(3.942402-1371.640060) :342\n",
      "Contrast(3.194733-3382.574163) :434\n",
      "Dissimilarity(0.681121-27.827751) :20\n",
      "Correlation(0.549426-0.989972) :0.7\n"
     ]
    }
   ],
   "source": [
    "r,c = 2,9\n",
    "l1 = [[0 for x in range (c)] for y in range(r)]\n",
    "\n",
    "Mean = float(input(\"Mean(0.078659-33.239975) :\"))\n",
    "l1[0][0]=Mean\n",
    "l1[1][0]=Mean\n",
    "\n",
    "Variance = float(input(\"Variance(3.145628-2910.581879) :\"))\n",
    "l1[0][1]=Variance\n",
    "l1[1][1]=Variance\n",
    "\n",
    "StandardDeviation = float(input(\"Standard Deviation(1.773592-53.949809) :\"))\n",
    "l1[0][2]=StandardDeviation\n",
    "l1[1][2]=StandardDeviation\n",
    "\n",
    "Entropy = float(input(\"Entropy(0.000882-0.394539) :\"))\n",
    "l1[0][3]=Entropy\n",
    "l1[1][3]=Entropy\n",
    "\n",
    "Skewness = float(input(\"Skewness(1.886014-36.931294) :\"))\n",
    "l1[0][4]=Skewness\n",
    "l1[1][4]=Skewness\n",
    "\n",
    "Kurtosis = float(input(\"Kurtosis(3.942402-1371.640060) :\"))\n",
    "l1[0][5]=Kurtosis\n",
    "l1[1][5]=Kurtosis\n",
    "\n",
    "Contrast = float(input(\"Contrast(3.194733-3382.574163) :\"))\n",
    "l1[0][6]=Contrast\n",
    "l1[1][6]=Contrast\n",
    "\n",
    "Dissimilarity = float(input(\"Dissimilarity(0.681121-27.827751) :\"))\n",
    "l1[0][7]=Dissimilarity\n",
    "l1[1][7]=Dissimilarity\n",
    "\n",
    "Correlation = float(input(\"Correlation(0.549426-0.989972) :\"))\n",
    "l1[0][8]=Correlation\n",
    "l1[1][8]=Correlation\n"
   ]
  },
  {
   "cell_type": "code",
   "execution_count": 51,
   "id": "f2e3dc18",
   "metadata": {},
   "outputs": [
    {
     "name": "stdout",
     "output_type": "stream",
     "text": [
      "Class\n",
      "0.0\n"
     ]
    }
   ],
   "source": [
    "dt_pred = dt.predict(l1)\n",
    "print('Class')\n",
    "print(float(dt_pred[0]))"
   ]
  }
 ],
 "metadata": {
  "kernelspec": {
   "display_name": "Python 3",
   "language": "python",
   "name": "python3"
  },
  "language_info": {
   "codemirror_mode": {
    "name": "ipython",
    "version": 3
   },
   "file_extension": ".py",
   "mimetype": "text/x-python",
   "name": "python",
   "nbconvert_exporter": "python",
   "pygments_lexer": "ipython3",
   "version": "3.8.8"
  }
 },
 "nbformat": 4,
 "nbformat_minor": 5
}
